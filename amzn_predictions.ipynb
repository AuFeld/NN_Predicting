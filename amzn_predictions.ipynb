{
 "cells": [
  {
   "cell_type": "code",
   "execution_count": null,
   "metadata": {},
   "outputs": [],
   "source": [
    "# TO DO: Auto load in multiple datasets"
   ]
  },
  {
   "cell_type": "code",
   "execution_count": null,
   "metadata": {},
   "outputs": [],
   "source": [
    "! pip install --upgrade matplotlib"
   ]
  },
  {
   "cell_type": "code",
   "execution_count": 40,
   "metadata": {},
   "outputs": [],
   "source": [
    "# Library Imports\n",
    "\n",
    "import pandas as pd\n",
    "import numpy as np\n",
    "from sklearn.model_selection import train_test_split\n",
    "import random\n",
    "from sklearn.preprocessing import StandardScaler\n",
    "from keras.models import Sequential\n",
    "from keras.layers import Dense, Dropout, Activation\n",
    "import matplotlib.pyplot as plt"
   ]
  },
  {
   "cell_type": "code",
   "execution_count": 12,
   "metadata": {},
   "outputs": [],
   "source": [
    "# Import the dataset\n",
    "\n",
    "dataset = pd.read_csv('stock_data/AMZN.csv')\n",
    "dataset = dataset[['Open', 'High', 'Low', 'Close']]\n",
    "\n",
    "# Feature Engineering \n",
    "\n",
    "dataset['H-L'] = dataset['High'] - dataset['Low']\n",
    "dataset['O-C'] = dataset['Close'] - dataset['Open']\n",
    "dataset['3day MA'] = dataset['Close'].shift(1).rolling(window = 3).mean()\n",
    "dataset['10day MA'] = dataset['Close'].shift(1).rolling(window = 10).mean()\n",
    "dataset['30day MA'] = dataset['Close'].shift(1).rolling(window = 30).mean()\n",
    "dataset['Std_dev']= dataset['Close'].rolling(5).std()\n"
   ]
  },
  {
   "cell_type": "code",
   "execution_count": 13,
   "metadata": {},
   "outputs": [],
   "source": [
    "'''\n",
    "Identify price rises. Using a binary variable, 1, to indicate when\n",
    "the closing price of the next day is greater than the closing price of prior day.\n",
    "'''\n",
    "\n",
    "dataset['Price_Rise'] = np.where(dataset['Close'].shift(-1) > dataset['Close'], 1, 0)"
   ]
  },
  {
   "cell_type": "code",
   "execution_count": 19,
   "metadata": {},
   "outputs": [
    {
     "data": {
      "text/html": [
       "<div>\n",
       "<style scoped>\n",
       "    .dataframe tbody tr th:only-of-type {\n",
       "        vertical-align: middle;\n",
       "    }\n",
       "\n",
       "    .dataframe tbody tr th {\n",
       "        vertical-align: top;\n",
       "    }\n",
       "\n",
       "    .dataframe thead th {\n",
       "        text-align: right;\n",
       "    }\n",
       "</style>\n",
       "<table border=\"1\" class=\"dataframe\">\n",
       "  <thead>\n",
       "    <tr style=\"text-align: right;\">\n",
       "      <th></th>\n",
       "      <th>Open</th>\n",
       "      <th>High</th>\n",
       "      <th>Low</th>\n",
       "      <th>Close</th>\n",
       "      <th>H-L</th>\n",
       "      <th>O-C</th>\n",
       "      <th>3day MA</th>\n",
       "      <th>10day MA</th>\n",
       "      <th>30day MA</th>\n",
       "      <th>Std_dev</th>\n",
       "      <th>Price_Rise</th>\n",
       "    </tr>\n",
       "  </thead>\n",
       "  <tbody>\n",
       "    <tr>\n",
       "      <th>30</th>\n",
       "      <td>36.209999</td>\n",
       "      <td>36.450001</td>\n",
       "      <td>35.750000</td>\n",
       "      <td>36.139999</td>\n",
       "      <td>0.700001</td>\n",
       "      <td>-0.070000</td>\n",
       "      <td>35.863332</td>\n",
       "      <td>37.130000</td>\n",
       "      <td>40.616666</td>\n",
       "      <td>0.158524</td>\n",
       "      <td>0</td>\n",
       "    </tr>\n",
       "    <tr>\n",
       "      <th>31</th>\n",
       "      <td>35.930000</td>\n",
       "      <td>36.349998</td>\n",
       "      <td>35.580002</td>\n",
       "      <td>35.660000</td>\n",
       "      <td>0.769996</td>\n",
       "      <td>-0.270000</td>\n",
       "      <td>35.983332</td>\n",
       "      <td>36.496000</td>\n",
       "      <td>40.337333</td>\n",
       "      <td>0.199047</td>\n",
       "      <td>1</td>\n",
       "    </tr>\n",
       "    <tr>\n",
       "      <th>32</th>\n",
       "      <td>35.740002</td>\n",
       "      <td>35.849998</td>\n",
       "      <td>35.250000</td>\n",
       "      <td>35.689999</td>\n",
       "      <td>0.599998</td>\n",
       "      <td>-0.050003</td>\n",
       "      <td>35.943333</td>\n",
       "      <td>35.873999</td>\n",
       "      <td>40.121333</td>\n",
       "      <td>0.213658</td>\n",
       "      <td>0</td>\n",
       "    </tr>\n",
       "    <tr>\n",
       "      <th>33</th>\n",
       "      <td>35.610001</td>\n",
       "      <td>35.750000</td>\n",
       "      <td>35.099998</td>\n",
       "      <td>35.310001</td>\n",
       "      <td>0.650002</td>\n",
       "      <td>-0.300000</td>\n",
       "      <td>35.829999</td>\n",
       "      <td>35.867999</td>\n",
       "      <td>39.918666</td>\n",
       "      <td>0.329590</td>\n",
       "      <td>0</td>\n",
       "    </tr>\n",
       "    <tr>\n",
       "      <th>34</th>\n",
       "      <td>35.020000</td>\n",
       "      <td>35.389999</td>\n",
       "      <td>34.509998</td>\n",
       "      <td>34.720001</td>\n",
       "      <td>0.880001</td>\n",
       "      <td>-0.299999</td>\n",
       "      <td>35.553333</td>\n",
       "      <td>35.826999</td>\n",
       "      <td>39.727333</td>\n",
       "      <td>0.528137</td>\n",
       "      <td>0</td>\n",
       "    </tr>\n",
       "  </tbody>\n",
       "</table>\n",
       "</div>"
      ],
      "text/plain": [
       "         Open       High        Low      Close       H-L       O-C    3day MA  \\\n",
       "30  36.209999  36.450001  35.750000  36.139999  0.700001 -0.070000  35.863332   \n",
       "31  35.930000  36.349998  35.580002  35.660000  0.769996 -0.270000  35.983332   \n",
       "32  35.740002  35.849998  35.250000  35.689999  0.599998 -0.050003  35.943333   \n",
       "33  35.610001  35.750000  35.099998  35.310001  0.650002 -0.300000  35.829999   \n",
       "34  35.020000  35.389999  34.509998  34.720001  0.880001 -0.299999  35.553333   \n",
       "\n",
       "     10day MA   30day MA   Std_dev  Price_Rise  \n",
       "30  37.130000  40.616666  0.158524           0  \n",
       "31  36.496000  40.337333  0.199047           1  \n",
       "32  35.873999  40.121333  0.213658           0  \n",
       "33  35.867999  39.918666  0.329590           0  \n",
       "34  35.826999  39.727333  0.528137           0  "
      ]
     },
     "execution_count": 19,
     "metadata": {},
     "output_type": "execute_result"
    }
   ],
   "source": [
    "# Drop NAN values\n",
    "\n",
    "dataset = dataset.dropna()\n",
    "\n",
    "dataset.head()"
   ]
  },
  {
   "cell_type": "code",
   "execution_count": 20,
   "metadata": {},
   "outputs": [],
   "source": [
    "# Seperate target variable and drop target variable from df\n",
    "\n",
    "df = dataset.drop('Price_Rise', axis=1)\n",
    "y = dataset['Price_Rise']"
   ]
  },
  {
   "cell_type": "code",
   "execution_count": 22,
   "metadata": {},
   "outputs": [],
   "source": [
    "# Split the Dataset\n",
    "\n",
    "X_train, X_test, y_train, y_test = train_test_split(df, y, test_size=0.20, \n",
    "                                                    random_state=42)"
   ]
  },
  {
   "cell_type": "code",
   "execution_count": 29,
   "metadata": {},
   "outputs": [
    {
     "data": {
      "text/plain": [
       "1    0.521159\n",
       "0    0.478841\n",
       "Name: Price_Rise, dtype: float64"
      ]
     },
     "execution_count": 29,
     "metadata": {},
     "output_type": "execute_result"
    }
   ],
   "source": [
    "'''\n",
    "Establish a Baseline & Domain Knowledge:\n",
    "\n",
    "We need to accomplish a better accuracy % then our baseline of 52.1 pct. \n",
    "Why such a low baseline? Casino's make their money with 51%/49% odds. Any rate\n",
    "better then a 51% accuracy rate should be considered as a success.\n",
    "'''\n",
    "\n",
    "y_train.value_counts(normalize=True)"
   ]
  },
  {
   "cell_type": "code",
   "execution_count": 33,
   "metadata": {},
   "outputs": [],
   "source": [
    "'''\n",
    "Feature Scaling and Standardizing:\n",
    "\n",
    "This ensures that there is no bias while training the model due to the \n",
    "different scales of all input features. If this is not done the neural \n",
    "network might get confused and give a higher weight to those features \n",
    "which have a higher average value than others.\n",
    "'''\n",
    "\n",
    "sc = StandardScaler()\n",
    "X_train = sc.fit_transform(X_train)\n",
    "X_test = sc.transform(X_test)"
   ]
  },
  {
   "cell_type": "code",
   "execution_count": null,
   "metadata": {},
   "outputs": [],
   "source": [
    "'''\n",
    "NN Notes:\n",
    "\n",
    "Units: This defines the number of nodes or neurons in that particular layer. \n",
    "We have set this value to 128, meaning there will be 128 neurons in our hidden layer.\n",
    "\n",
    "Kernel_initializer: This defines the starting values for the weights of the \n",
    "different neurons in the hidden layer. We have defined this to be ‘uniform’, \n",
    "which means that the weights will be initialized with values from a uniform distribution.\n",
    "\n",
    "Activation: This is the activation function for the neurons in the particular hidden layer. \n",
    "Here we define the function as the rectified Linear Unit function or ‘relu’.\n",
    "\n",
    "Inputs: This defines the number of inputs to the hidden layer, we have defined this \n",
    "value to be equal to the number of columns of our input feature dataframe. \n",
    "This argument will not be required in the subsequent layers, as the model will know \n",
    "how many outputs the previous layer produced.\n",
    "'''"
   ]
  },
  {
   "cell_type": "code",
   "execution_count": 34,
   "metadata": {},
   "outputs": [],
   "source": [
    "'''\n",
    "Variables for NN - Adjust as neccessary. \n",
    "'''\n",
    "epochs = 100\n",
    "batch_size = 10\n",
    "inputs = X_train.shape[1]"
   ]
  },
  {
   "cell_type": "code",
   "execution_count": 37,
   "metadata": {},
   "outputs": [],
   "source": [
    "'''\n",
    "Building the NN\n",
    "'''\n",
    "\n",
    "model = Sequential()\n",
    "\n",
    "# Two Hidden Layers\n",
    "\n",
    "model.add(Dense(128, kernel_initializer='uniform', activation='relu', input_shape=(inputs,)))\n",
    "model.add(Dense(128, kernel_initializer='uniform', activation='relu'))\n",
    "\n",
    "# Output Layer\n",
    "\n",
    "model.add(Dense(1, kernel_initializer='uniform', activation='sigmoid'))\n",
    "\n",
    "# Compile the Model\n",
    "\n",
    "model.compile(optimizer='adam',\n",
    "              loss='mean_squared_error',\n",
    "              metrics=['acc'])"
   ]
  },
  {
   "cell_type": "code",
   "execution_count": null,
   "metadata": {},
   "outputs": [],
   "source": [
    "# Fit and Train Model\n",
    "\n",
    "model.fit(X_train, y_train, \n",
    "          batch_size = batch_size, \n",
    "          epochs = epochs)"
   ]
  },
  {
   "cell_type": "code",
   "execution_count": null,
   "metadata": {},
   "outputs": [],
   "source": [
    "# To DO: hyperparameter tuning"
   ]
  },
  {
   "cell_type": "code",
   "execution_count": 42,
   "metadata": {},
   "outputs": [],
   "source": [
    "'''\n",
    "Predict the Movement of Stock:\n",
    "\n",
    "Now that the neural network has been compiled, we can use the predict() method for making the prediction. \n",
    "We pass X_test as its argument and store the result in a variable named ypred. \n",
    "We then convert ypred to store binary values by storing the condition ypred > 5. \n",
    "Now, the variable y_pred stores either True or False depending on whether the \n",
    "predicted value was greater or less than 0.5.\n",
    "'''\n",
    "\n",
    "y_pred = model.predict(X_test)\n",
    "y_pred = (y_pred > 0.5)"
   ]
  },
  {
   "cell_type": "code",
   "execution_count": 43,
   "metadata": {},
   "outputs": [],
   "source": [
    "'''\n",
    "Next, we create a new column in the dataframe dataset with the column header ‘ypred’ \n",
    "and store NaN values in the column. \n",
    "We then store the values of ypred into this new column, starting from the rows of the test dataset. \n",
    "This is done by slicing the dataframe using the iloc method as shown in the code below. \n",
    "We then drop all the NaN values from the dataset and store them in a new dataframe named trade_dataset.\n",
    "'''\n",
    "\n",
    "dataset['y_pred'] = np.NaN\n",
    "dataset.iloc[(len(dataset) - len(y_pred)):,-1:] = y_pred\n",
    "trade_dataset = dataset.dropna()"
   ]
  },
  {
   "cell_type": "code",
   "execution_count": null,
   "metadata": {},
   "outputs": [],
   "source": [
    "# Computing Strategy Returns\n",
    "\n",
    "trade_dataset['Tomorrows Returns'] = 0.\n",
    "trade_dataset['Tomorrows Returns'] = np.log(trade_dataset['Close']/trade_dataset['Close'].shift(1))\n",
    "trade_dataset['Tomorrows Returns'] = trade_dataset['Tomorrows Returns'].shift(-1)"
   ]
  },
  {
   "cell_type": "code",
   "execution_count": null,
   "metadata": {},
   "outputs": [],
   "source": [
    "trade_dataset['Strategy Returns'] = 0.\n",
    "trade_dataset['Strategy Returns'] = np.where(trade_dataset['y_pred'] == True, trade_dataset['Tomorrows Returns'], - trade_dataset['Tomorrows Returns'])"
   ]
  },
  {
   "cell_type": "code",
   "execution_count": null,
   "metadata": {},
   "outputs": [],
   "source": [
    "trade_dataset['Cumulative Market Returns'] = np.cumsum(trade_dataset['Tomorrows Returns'])\n",
    "trade_dataset['Cumulative Strategy Returns'] = np.cumsum(trade_dataset['Strategy Returns'])"
   ]
  },
  {
   "cell_type": "code",
   "execution_count": 49,
   "metadata": {},
   "outputs": [
    {
     "data": {
      "image/png": "[encoded data removed]",
      "text/plain": [
       "<Figure size 720x360 with 1 Axes>"
      ]
     },
     "metadata": {
      "needs_background": "light"
     },
     "output_type": "display_data"
    }
   ],
   "source": [
    "# Graph Our Results\n",
    "\n",
    "plt.figure(figsize=(10,5))\n",
    "plt.plot(trade_dataset['Cumulative Market Returns'], color='r', label='Market Returns')\n",
    "plt.plot(trade_dataset['Cumulative Strategy Returns'], color='g', label='Strategy Returns')\n",
    "plt.legend()\n",
    "plt.show()"
   ]
  },
  {
   "cell_type": "code",
   "execution_count": null,
   "metadata": {},
   "outputs": [],
   "source": [
    "# To Do: Try hyperparameter tuning for better results. \n",
    "\n",
    "# Consider: Gather more data points (+100,000) for a more accurate model"
   ]
  },
  {
   "cell_type": "code",
   "execution_count": null,
   "metadata": {},
   "outputs": [],
   "source": []
  }
 ],
 "metadata": {
  "kernelspec": {
   "display_name": "Python 3.7.4 64-bit ('venv': venv)",
   "language": "python",
   "name": "python37464bitvenvvenv064d3c82b3934ee7a620a0d74d6d2ca9"
  },
  "language_info": {
   "codemirror_mode": {
    "name": "ipython",
    "version": 3
   },
   "file_extension": ".py",
   "mimetype": "text/x-python",
   "name": "python",
   "nbconvert_exporter": "python",
   "pygments_lexer": "ipython3",
   "version": "3.7.4"
  }
 },
 "nbformat": 4,
 "nbformat_minor": 4
}
