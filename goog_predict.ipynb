{
 "cells": [
  {
   "cell_type": "code",
   "execution_count": null,
   "metadata": {},
   "outputs": [],
   "source": [
    "# TO DO: Auto load in multiple datasets"
   ]
  },
  {
   "cell_type": "code",
   "execution_count": 30,
   "metadata": {},
   "outputs": [],
   "source": [
    "# Library Imports\n",
    "\n",
    "import pandas as pd\n",
    "import numpy as np\n",
    "from sklearn.model_selection import train_test_split\n",
    "import random\n",
    "from sklearn.preprocessing import StandardScaler\n",
    "from keras.models import Sequential\n",
    "from keras.layers import Dense, Dropout, Activation\n",
    "import matplotlib.pyplot as plt\n",
    "import warnings\n",
    "warnings.filterwarnings('ignore')"
   ]
  },
  {
   "cell_type": "code",
   "execution_count": 31,
   "metadata": {},
   "outputs": [],
   "source": [
    "# Import the dataset\n",
    "\n",
    "dataset = pd.read_csv('sp500/GOOG.csv')\n",
    "dataset = dataset[['Open', 'High', 'Low', 'Close']]\n",
    "\n",
    "# Feature Engineering \n",
    "\n",
    "dataset['H-L'] = dataset['High'] - dataset['Low']\n",
    "dataset['O-C'] = dataset['Close'] - dataset['Open']\n",
    "dataset['3day MA'] = dataset['Close'].shift(1).rolling(window = 3).mean()\n",
    "dataset['10day MA'] = dataset['Close'].shift(1).rolling(window = 10).mean()\n",
    "dataset['30day MA'] = dataset['Close'].shift(1).rolling(window = 30).mean()\n",
    "dataset['Std_dev']= dataset['Close'].rolling(5).std()\n"
   ]
  },
  {
   "cell_type": "code",
   "execution_count": 32,
   "metadata": {},
   "outputs": [],
   "source": [
    "'''\n",
    "Identify price rises. Using a binary variable, 1, to indicate when\n",
    "the closing price of the next day is greater than the closing price of prior day.\n",
    "'''\n",
    "\n",
    "dataset['Price_Rise'] = np.where(dataset['Close'].shift(-1) > dataset['Close'], 1, 0)"
   ]
  },
  {
   "cell_type": "code",
   "execution_count": 33,
   "metadata": {},
   "outputs": [
    {
     "data": {
      "text/html": [
       "<div>\n",
       "<style scoped>\n",
       "    .dataframe tbody tr th:only-of-type {\n",
       "        vertical-align: middle;\n",
       "    }\n",
       "\n",
       "    .dataframe tbody tr th {\n",
       "        vertical-align: top;\n",
       "    }\n",
       "\n",
       "    .dataframe thead th {\n",
       "        text-align: right;\n",
       "    }\n",
       "</style>\n",
       "<table border=\"1\" class=\"dataframe\">\n",
       "  <thead>\n",
       "    <tr style=\"text-align: right;\">\n",
       "      <th></th>\n",
       "      <th>Open</th>\n",
       "      <th>High</th>\n",
       "      <th>Low</th>\n",
       "      <th>Close</th>\n",
       "      <th>H-L</th>\n",
       "      <th>O-C</th>\n",
       "      <th>3day MA</th>\n",
       "      <th>10day MA</th>\n",
       "      <th>30day MA</th>\n",
       "      <th>Std_dev</th>\n",
       "      <th>Price_Rise</th>\n",
       "    </tr>\n",
       "  </thead>\n",
       "  <tbody>\n",
       "    <tr>\n",
       "      <th>30</th>\n",
       "      <td>96.438522</td>\n",
       "      <td>99.546875</td>\n",
       "      <td>96.179497</td>\n",
       "      <td>97.250481</td>\n",
       "      <td>3.367378</td>\n",
       "      <td>0.811959</td>\n",
       "      <td>94.374593</td>\n",
       "      <td>98.017605</td>\n",
       "      <td>96.714490</td>\n",
       "      <td>1.657058</td>\n",
       "      <td>1</td>\n",
       "    </tr>\n",
       "    <tr>\n",
       "      <th>31</th>\n",
       "      <td>96.986473</td>\n",
       "      <td>99.292824</td>\n",
       "      <td>96.787216</td>\n",
       "      <td>98.834541</td>\n",
       "      <td>2.505608</td>\n",
       "      <td>1.848068</td>\n",
       "      <td>95.578415</td>\n",
       "      <td>98.183483</td>\n",
       "      <td>96.590289</td>\n",
       "      <td>2.349867</td>\n",
       "      <td>0</td>\n",
       "    </tr>\n",
       "    <tr>\n",
       "      <th>32</th>\n",
       "      <td>98.545624</td>\n",
       "      <td>99.502045</td>\n",
       "      <td>98.037529</td>\n",
       "      <td>98.580498</td>\n",
       "      <td>1.464516</td>\n",
       "      <td>0.034874</td>\n",
       "      <td>97.406563</td>\n",
       "      <td>97.807393</td>\n",
       "      <td>96.655212</td>\n",
       "      <td>2.227804</td>\n",
       "      <td>1</td>\n",
       "    </tr>\n",
       "    <tr>\n",
       "      <th>33</th>\n",
       "      <td>98.884354</td>\n",
       "      <td>99.048744</td>\n",
       "      <td>97.962814</td>\n",
       "      <td>98.605400</td>\n",
       "      <td>1.085930</td>\n",
       "      <td>-0.278954</td>\n",
       "      <td>98.221840</td>\n",
       "      <td>97.161813</td>\n",
       "      <td>96.728106</td>\n",
       "      <td>1.158720</td>\n",
       "      <td>0</td>\n",
       "    </tr>\n",
       "    <tr>\n",
       "      <th>34</th>\n",
       "      <td>97.883110</td>\n",
       "      <td>99.078629</td>\n",
       "      <td>94.839516</td>\n",
       "      <td>95.327690</td>\n",
       "      <td>4.239113</td>\n",
       "      <td>-2.555420</td>\n",
       "      <td>98.673480</td>\n",
       "      <td>96.842509</td>\n",
       "      <td>96.884187</td>\n",
       "      <td>1.475651</td>\n",
       "      <td>1</td>\n",
       "    </tr>\n",
       "  </tbody>\n",
       "</table>\n",
       "</div>"
      ],
      "text/plain": [
       "         Open       High        Low      Close       H-L       O-C    3day MA  \\\n",
       "30  96.438522  99.546875  96.179497  97.250481  3.367378  0.811959  94.374593   \n",
       "31  96.986473  99.292824  96.787216  98.834541  2.505608  1.848068  95.578415   \n",
       "32  98.545624  99.502045  98.037529  98.580498  1.464516  0.034874  97.406563   \n",
       "33  98.884354  99.048744  97.962814  98.605400  1.085930 -0.278954  98.221840   \n",
       "34  97.883110  99.078629  94.839516  95.327690  4.239113 -2.555420  98.673480   \n",
       "\n",
       "     10day MA   30day MA   Std_dev  Price_Rise  \n",
       "30  98.017605  96.714490  1.657058           1  \n",
       "31  98.183483  96.590289  2.349867           0  \n",
       "32  97.807393  96.655212  2.227804           1  \n",
       "33  97.161813  96.728106  1.158720           0  \n",
       "34  96.842509  96.884187  1.475651           1  "
      ]
     },
     "execution_count": 33,
     "metadata": {},
     "output_type": "execute_result"
    }
   ],
   "source": [
    "# Drop NAN values\n",
    "\n",
    "dataset = dataset.dropna()\n",
    "\n",
    "dataset.head()"
   ]
  },
  {
   "cell_type": "code",
   "execution_count": 34,
   "metadata": {},
   "outputs": [],
   "source": [
    "# Seperate target variable and drop target variable from df\n",
    "\n",
    "df = dataset.drop('Price_Rise', axis=1)\n",
    "y = dataset['Price_Rise']"
   ]
  },
  {
   "cell_type": "code",
   "execution_count": 35,
   "metadata": {},
   "outputs": [],
   "source": [
    "# Split the Dataset\n",
    "\n",
    "X_train, X_test, y_train, y_test = train_test_split(df, y, test_size=0.20, \n",
    "                                                    random_state=42)"
   ]
  },
  {
   "cell_type": "code",
   "execution_count": 36,
   "metadata": {},
   "outputs": [
    {
     "data": {
      "text/plain": [
       "1    0.517904\n",
       "0    0.482096\n",
       "Name: Price_Rise, dtype: float64"
      ]
     },
     "execution_count": 36,
     "metadata": {},
     "output_type": "execute_result"
    }
   ],
   "source": [
    "'''\n",
    "Establish a Baseline & Domain Insight:\n",
    "\n",
    "Objective: to accomplish a better accuracy % then our baseline of 51.7 pct. \n",
    "Why such a low baseline? Casino's make their money with 51%/49% odds. Any rate\n",
    "better then a 51% accuracy rate should be considered as a success.\n",
    "'''\n",
    "\n",
    "y_train.value_counts(normalize=True)"
   ]
  },
  {
   "cell_type": "code",
   "execution_count": 37,
   "metadata": {},
   "outputs": [],
   "source": [
    "'''\n",
    "Feature Scaling and Standardizing:\n",
    "\n",
    "This ensures that there is no bias while training the model due to the \n",
    "different scales of all input features. If this is not done the neural \n",
    "network might get confused and give a higher weight to those features \n",
    "which have a higher average value than others.\n",
    "'''\n",
    "\n",
    "sc = StandardScaler()\n",
    "X_train = sc.fit_transform(X_train)\n",
    "X_test = sc.transform(X_test)"
   ]
  },
  {
   "cell_type": "code",
   "execution_count": 38,
   "metadata": {},
   "outputs": [
    {
     "data": {
      "text/plain": [
       "'\\nNN Notes:\\n\\nUnits: This defines the number of nodes or neurons in that particular layer. \\nWe have set this value to 128, meaning there will be 128 neurons in our hidden layer.\\n\\nKernel_initializer: This defines the starting values for the weights of the \\ndifferent neurons in the hidden layer. We have defined this to be ‘uniform’, \\nwhich means that the weights will be initialized with values from a uniform distribution.\\n\\nActivation: This is the activation function for the neurons in the particular hidden layer. \\nHere we define the function as the rectified Linear Unit function or ‘relu’.\\n\\nInputs: This defines the number of inputs to the hidden layer, we have defined this \\nvalue to be equal to the number of columns of our input feature dataframe. \\nThis argument will not be required in the subsequent layers, as the model will know \\nhow many outputs the previous layer produced.\\n'"
      ]
     },
     "execution_count": 38,
     "metadata": {},
     "output_type": "execute_result"
    }
   ],
   "source": [
    "'''\n",
    "NN Notes:\n",
    "\n",
    "Units: This defines the number of nodes or neurons in that particular layer. \n",
    "We have set this value to 128, meaning there will be 128 neurons in our hidden layer.\n",
    "\n",
    "Kernel_initializer: This defines the starting values for the weights of the \n",
    "different neurons in the hidden layer. We have defined this to be ‘uniform’, \n",
    "which means that the weights will be initialized with values from a uniform distribution.\n",
    "\n",
    "Activation: This is the activation function for the neurons in the particular hidden layer. \n",
    "Here we define the function as the rectified Linear Unit function or ‘relu’.\n",
    "\n",
    "Inputs: This defines the number of inputs to the hidden layer, we have defined this \n",
    "value to be equal to the number of columns of our input feature dataframe. \n",
    "This argument will not be required in the subsequent layers, as the model will know \n",
    "how many outputs the previous layer produced.\n",
    "'''"
   ]
  },
  {
   "cell_type": "code",
   "execution_count": 24,
   "metadata": {},
   "outputs": [],
   "source": [
    "'''\n",
    "Variables for NN - Adjust as neccessary. \n",
    "'''\n",
    "epochs = 100\n",
    "batch_size = 10\n",
    "inputs = X_train.shape[1]"
   ]
  },
  {
   "cell_type": "code",
   "execution_count": 40,
   "metadata": {},
   "outputs": [
    {
     "name": "stderr",
     "output_type": "stream",
     "text": [
      "/home/chase/anaconda3/lib/python3.7/site-packages/keras/engine/training_utils.py:811: DeprecationWarning: Using or importing the ABCs from 'collections' instead of from 'collections.abc' is deprecated, and in 3.8 it will stop working\n",
      "  if isinstance(loss, collections.Mapping):\n"
     ]
    }
   ],
   "source": [
    "'''\n",
    "Building the NN\n",
    "'''\n",
    "\n",
    "model = Sequential()\n",
    "\n",
    "# Two Hidden Layers\n",
    "\n",
    "model.add(Dense(128, activation='relu', input_shape=(inputs,)))\n",
    "model.add(Dense(128, activation='relu'))\n",
    "\n",
    "# Output Layer\n",
    "\n",
    "model.add(Dense(1, kernel_initializer='uniform', activation='sigmoid'))\n",
    "\n",
    "# Compile the Model\n",
    "\n",
    "model.compile(optimizer='adam',\n",
    "              loss='mean_squared_error',\n",
    "              metrics=['acc'])"
   ]
  },
  {
   "cell_type": "code",
   "execution_count": 41,
   "metadata": {},
   "outputs": [
    {
     "name": "stderr",
     "output_type": "stream",
     "text": [
      "/home/chase/anaconda3/lib/python3.7/site-packages/tensorflow/python/framework/indexed_slices.py:349: DeprecationWarning: Using or importing the ABCs from 'collections' instead of from 'collections.abc' is deprecated, and in 3.8 it will stop working\n",
      "  if not isinstance(values, collections.Sequence):\n"
     ]
    },
    {
     "name": "stdout",
     "output_type": "stream",
     "text": [
      "Epoch 1/100\n",
      "3072/3072 [==============================] - 1s 428us/step - loss: 0.2503 - acc: 0.5137\n",
      "Epoch 2/100\n",
      "3072/3072 [==============================] - 0s 109us/step - loss: 0.2500 - acc: 0.5124\n",
      "Epoch 3/100\n",
      "3072/3072 [==============================] - 0s 108us/step - loss: 0.2495 - acc: 0.5205\n",
      "Epoch 4/100\n",
      "3072/3072 [==============================] - 0s 109us/step - loss: 0.2497 - acc: 0.5202\n",
      "Epoch 5/100\n",
      "3072/3072 [==============================] - 0s 108us/step - loss: 0.2491 - acc: 0.5221\n",
      "Epoch 6/100\n",
      "3072/3072 [==============================] - 1s 170us/step - loss: 0.2492 - acc: 0.5251\n",
      "Epoch 7/100\n",
      "3072/3072 [==============================] - 0s 142us/step - loss: 0.2491 - acc: 0.5283\n",
      "Epoch 8/100\n",
      "3072/3072 [==============================] - 0s 125us/step - loss: 0.2488 - acc: 0.5199\n",
      "Epoch 9/100\n",
      "3072/3072 [==============================] - 0s 119us/step - loss: 0.2490 - acc: 0.5192\n",
      "Epoch 10/100\n",
      "3072/3072 [==============================] - 0s 126us/step - loss: 0.2487 - acc: 0.5270\n",
      "Epoch 11/100\n",
      "3072/3072 [==============================] - 0s 121us/step - loss: 0.2486 - acc: 0.5339\n",
      "Epoch 12/100\n",
      "3072/3072 [==============================] - 0s 119us/step - loss: 0.2487 - acc: 0.5280\n",
      "Epoch 13/100\n",
      "3072/3072 [==============================] - 0s 124us/step - loss: 0.2483 - acc: 0.5410\n",
      "Epoch 14/100\n",
      "3072/3072 [==============================] - 0s 126us/step - loss: 0.2480 - acc: 0.5296\n",
      "Epoch 15/100\n",
      "3072/3072 [==============================] - 0s 128us/step - loss: 0.2479 - acc: 0.5417\n",
      "Epoch 16/100\n",
      "3072/3072 [==============================] - 0s 121us/step - loss: 0.2477 - acc: 0.5446\n",
      "Epoch 17/100\n",
      "3072/3072 [==============================] - 0s 128us/step - loss: 0.2476 - acc: 0.5316\n",
      "Epoch 18/100\n",
      "3072/3072 [==============================] - 0s 149us/step - loss: 0.2470 - acc: 0.5547\n",
      "Epoch 19/100\n",
      "3072/3072 [==============================] - 0s 138us/step - loss: 0.2469 - acc: 0.5482\n",
      "Epoch 20/100\n",
      "3072/3072 [==============================] - 0s 134us/step - loss: 0.2468 - acc: 0.5436\n",
      "Epoch 21/100\n",
      "3072/3072 [==============================] - 1s 204us/step - loss: 0.2464 - acc: 0.5547\n",
      "Epoch 22/100\n",
      "3072/3072 [==============================] - 0s 122us/step - loss: 0.2460 - acc: 0.5495\n",
      "Epoch 23/100\n",
      "3072/3072 [==============================] - 0s 87us/step - loss: 0.2458 - acc: 0.5462\n",
      "Epoch 24/100\n",
      "3072/3072 [==============================] - 0s 87us/step - loss: 0.2456 - acc: 0.5501\n",
      "Epoch 25/100\n",
      "3072/3072 [==============================] - 0s 86us/step - loss: 0.2452 - acc: 0.5492\n",
      "Epoch 26/100\n",
      "3072/3072 [==============================] - 0s 89us/step - loss: 0.2456 - acc: 0.5472\n",
      "Epoch 27/100\n",
      "3072/3072 [==============================] - 0s 148us/step - loss: 0.2447 - acc: 0.5560\n",
      "Epoch 28/100\n",
      "3072/3072 [==============================] - 0s 116us/step - loss: 0.2444 - acc: 0.5550\n",
      "Epoch 29/100\n",
      "3072/3072 [==============================] - 0s 119us/step - loss: 0.2445 - acc: 0.5495\n",
      "Epoch 30/100\n",
      "3072/3072 [==============================] - 0s 116us/step - loss: 0.2443 - acc: 0.5531\n",
      "Epoch 31/100\n",
      "3072/3072 [==============================] - 0s 108us/step - loss: 0.2437 - acc: 0.5537\n",
      "Epoch 32/100\n",
      "3072/3072 [==============================] - 0s 88us/step - loss: 0.2440 - acc: 0.5583\n",
      "Epoch 33/100\n",
      "3072/3072 [==============================] - 0s 87us/step - loss: 0.2433 - acc: 0.5576\n",
      "Epoch 34/100\n",
      "3072/3072 [==============================] - 0s 106us/step - loss: 0.2434 - acc: 0.5576\n",
      "Epoch 35/100\n",
      "3072/3072 [==============================] - 0s 93us/step - loss: 0.2430 - acc: 0.5615\n",
      "Epoch 36/100\n",
      "3072/3072 [==============================] - 1s 261us/step - loss: 0.2423 - acc: 0.5622\n",
      "Epoch 37/100\n",
      "3072/3072 [==============================] - 1s 194us/step - loss: 0.2424 - acc: 0.5599\n",
      "Epoch 38/100\n",
      "3072/3072 [==============================] - 0s 144us/step - loss: 0.2423 - acc: 0.5648\n",
      "Epoch 39/100\n",
      "3072/3072 [==============================] - 1s 216us/step - loss: 0.2421 - acc: 0.5566\n",
      "Epoch 40/100\n",
      "3072/3072 [==============================] - 1s 183us/step - loss: 0.2419 - acc: 0.5521\n",
      "Epoch 41/100\n",
      "3072/3072 [==============================] - 1s 183us/step - loss: 0.2414 - acc: 0.5612\n",
      "Epoch 42/100\n",
      "3072/3072 [==============================] - 0s 135us/step - loss: 0.2412 - acc: 0.5498\n",
      "Epoch 43/100\n",
      "3072/3072 [==============================] - 0s 127us/step - loss: 0.2409 - acc: 0.5687\n",
      "Epoch 44/100\n",
      "3072/3072 [==============================] - 0s 134us/step - loss: 0.2409 - acc: 0.5592\n",
      "Epoch 45/100\n",
      "3072/3072 [==============================] - 0s 133us/step - loss: 0.2399 - acc: 0.5645\n",
      "Epoch 46/100\n",
      "3072/3072 [==============================] - 0s 135us/step - loss: 0.2404 - acc: 0.5632\n",
      "Epoch 47/100\n",
      "3072/3072 [==============================] - 0s 137us/step - loss: 0.2396 - acc: 0.5658\n",
      "Epoch 48/100\n",
      "3072/3072 [==============================] - 0s 146us/step - loss: 0.2398 - acc: 0.5700\n",
      "Epoch 49/100\n",
      "3072/3072 [==============================] - 0s 152us/step - loss: 0.2397 - acc: 0.5632\n",
      "Epoch 50/100\n",
      "3072/3072 [==============================] - 0s 137us/step - loss: 0.2389 - acc: 0.5641\n",
      "Epoch 51/100\n",
      "3072/3072 [==============================] - 0s 139us/step - loss: 0.2396 - acc: 0.5645\n",
      "Epoch 52/100\n",
      "3072/3072 [==============================] - 1s 178us/step - loss: 0.2388 - acc: 0.5671\n",
      "Epoch 53/100\n",
      "3072/3072 [==============================] - 1s 165us/step - loss: 0.2384 - acc: 0.5723\n",
      "Epoch 54/100\n",
      "3072/3072 [==============================] - 1s 216us/step - loss: 0.2386 - acc: 0.5710\n",
      "Epoch 55/100\n",
      "3072/3072 [==============================] - 1s 253us/step - loss: 0.2377 - acc: 0.5674\n",
      "Epoch 56/100\n",
      "3072/3072 [==============================] - 0s 159us/step - loss: 0.2379 - acc: 0.5687\n",
      "Epoch 57/100\n",
      "3072/3072 [==============================] - 1s 185us/step - loss: 0.2377 - acc: 0.5684\n",
      "Epoch 58/100\n",
      "3072/3072 [==============================] - 0s 148us/step - loss: 0.2369 - acc: 0.5742\n",
      "Epoch 59/100\n",
      "3072/3072 [==============================] - 0s 152us/step - loss: 0.2372 - acc: 0.5674\n",
      "Epoch 60/100\n",
      "3072/3072 [==============================] - 0s 142us/step - loss: 0.2369 - acc: 0.5739\n",
      "Epoch 61/100\n",
      "3072/3072 [==============================] - 0s 137us/step - loss: 0.2365 - acc: 0.5742\n",
      "Epoch 62/100\n",
      "3072/3072 [==============================] - 0s 148us/step - loss: 0.2363 - acc: 0.5749\n",
      "Epoch 63/100\n",
      "3072/3072 [==============================] - 0s 144us/step - loss: 0.2359 - acc: 0.5723\n",
      "Epoch 64/100\n",
      "3072/3072 [==============================] - 0s 137us/step - loss: 0.2355 - acc: 0.5785\n",
      "Epoch 65/100\n",
      "3072/3072 [==============================] - 1s 170us/step - loss: 0.2358 - acc: 0.5765\n",
      "Epoch 66/100\n",
      "3072/3072 [==============================] - 0s 153us/step - loss: 0.2350 - acc: 0.5814\n",
      "Epoch 67/100\n",
      "3072/3072 [==============================] - 1s 182us/step - loss: 0.2355 - acc: 0.5781\n",
      "Epoch 68/100\n",
      "3072/3072 [==============================] - 1s 195us/step - loss: 0.2346 - acc: 0.5755\n",
      "Epoch 69/100\n",
      "3072/3072 [==============================] - 0s 135us/step - loss: 0.2358 - acc: 0.5794\n",
      "Epoch 70/100\n",
      "3072/3072 [==============================] - 0s 123us/step - loss: 0.2348 - acc: 0.5667\n",
      "Epoch 71/100\n",
      "3072/3072 [==============================] - 0s 125us/step - loss: 0.2342 - acc: 0.5824\n",
      "Epoch 72/100\n",
      "3072/3072 [==============================] - 0s 137us/step - loss: 0.2339 - acc: 0.5791\n",
      "Epoch 73/100\n",
      "3072/3072 [==============================] - 0s 130us/step - loss: 0.2336 - acc: 0.5758\n",
      "Epoch 74/100\n",
      "3072/3072 [==============================] - 0s 129us/step - loss: 0.2335 - acc: 0.5833\n",
      "Epoch 75/100\n",
      "3072/3072 [==============================] - 0s 131us/step - loss: 0.2326 - acc: 0.5856\n",
      "Epoch 76/100\n",
      "3072/3072 [==============================] - 0s 148us/step - loss: 0.2327 - acc: 0.5843\n",
      "Epoch 77/100\n",
      "3072/3072 [==============================] - 0s 132us/step - loss: 0.2328 - acc: 0.5853\n",
      "Epoch 78/100\n",
      "3072/3072 [==============================] - 0s 136us/step - loss: 0.2320 - acc: 0.5850\n",
      "Epoch 79/100\n",
      "3072/3072 [==============================] - 0s 137us/step - loss: 0.2323 - acc: 0.5872\n",
      "Epoch 80/100\n",
      "3072/3072 [==============================] - 0s 141us/step - loss: 0.2308 - acc: 0.5856\n",
      "Epoch 81/100\n",
      "3072/3072 [==============================] - 0s 138us/step - loss: 0.2323 - acc: 0.5798\n",
      "Epoch 82/100\n",
      "3072/3072 [==============================] - 0s 141us/step - loss: 0.2305 - acc: 0.5954\n",
      "Epoch 83/100\n",
      "3072/3072 [==============================] - 0s 151us/step - loss: 0.2306 - acc: 0.5817\n",
      "Epoch 84/100\n",
      "3072/3072 [==============================] - 0s 141us/step - loss: 0.2309 - acc: 0.5918\n",
      "Epoch 85/100\n",
      "3072/3072 [==============================] - 0s 157us/step - loss: 0.2299 - acc: 0.5928\n",
      "Epoch 86/100\n",
      "3072/3072 [==============================] - 0s 145us/step - loss: 0.2297 - acc: 0.5924\n",
      "Epoch 87/100\n",
      "3072/3072 [==============================] - 0s 138us/step - loss: 0.2306 - acc: 0.5908\n",
      "Epoch 88/100\n",
      "3072/3072 [==============================] - 0s 140us/step - loss: 0.2306 - acc: 0.5863\n",
      "Epoch 89/100\n",
      "3072/3072 [==============================] - 0s 141us/step - loss: 0.2293 - acc: 0.5863\n",
      "Epoch 90/100\n",
      "3072/3072 [==============================] - 0s 153us/step - loss: 0.2284 - acc: 0.5967\n",
      "Epoch 91/100\n",
      "3072/3072 [==============================] - 0s 148us/step - loss: 0.2291 - acc: 0.5905\n",
      "Epoch 92/100\n",
      "3072/3072 [==============================] - 1s 193us/step - loss: 0.2281 - acc: 0.5990\n",
      "Epoch 93/100\n",
      "3072/3072 [==============================] - 0s 144us/step - loss: 0.2285 - acc: 0.5908\n",
      "Epoch 94/100\n",
      "3072/3072 [==============================] - 1s 397us/step - loss: 0.2283 - acc: 0.5898\n",
      "Epoch 95/100\n",
      "3072/3072 [==============================] - 0s 160us/step - loss: 0.2288 - acc: 0.5957\n",
      "Epoch 96/100\n",
      "3072/3072 [==============================] - 0s 142us/step - loss: 0.2268 - acc: 0.5993\n",
      "Epoch 97/100\n",
      "3072/3072 [==============================] - 0s 146us/step - loss: 0.2267 - acc: 0.5990\n",
      "Epoch 98/100\n",
      "3072/3072 [==============================] - 0s 141us/step - loss: 0.2272 - acc: 0.5928\n",
      "Epoch 99/100\n",
      "3072/3072 [==============================] - 0s 150us/step - loss: 0.2268 - acc: 0.5964\n",
      "Epoch 100/100\n",
      "3072/3072 [==============================] - 1s 183us/step - loss: 0.2266 - acc: 0.5973\n"
     ]
    },
    {
     "data": {
      "text/plain": [
       "<keras.callbacks.callbacks.History at 0x7f58ee05d490>"
      ]
     },
     "execution_count": 41,
     "metadata": {},
     "output_type": "execute_result"
    }
   ],
   "source": [
    "# Fit and Train Model\n",
    "\n",
    "model.fit(X_train, y_train, \n",
    "          batch_size = batch_size, \n",
    "          epochs = epochs)"
   ]
  },
  {
   "cell_type": "code",
   "execution_count": 42,
   "metadata": {},
   "outputs": [
    {
     "name": "stderr",
     "output_type": "stream",
     "text": [
      "/home/chase/anaconda3/lib/python3.7/site-packages/sklearn/model_selection/_split.py:1978: FutureWarning: The default value of cv will change from 3 to 5 in version 0.22. Specify it explicitly to silence this warning.\n",
      "  warnings.warn(CV_WARNING, FutureWarning)\n"
     ]
    }
   ],
   "source": [
    "# hyperparameter tuning\n",
    "\n",
    "from sklearn.model_selection import GridSearchCV\n",
    "from tensorflow.keras.wrappers.scikit_learn import KerasClassifier\n",
    "from tensorflow.keras import optimizers\n",
    "\n",
    "def create_model():\n",
    "    model = Sequential()\n",
    "    model.add(Dense(128, activation='relu', input_shape=(inputs,)))\n",
    "    model.add(Dense(128, activation='relu'))\n",
    "    model.add(Dense(1, kernel_initializer='uniform', activation='sigmoid'))\n",
    "    model.compile(optimizer='adam',\n",
    "                  loss='mean_squared_error',\n",
    "                  metrics=['acc'])\n",
    "    return model\n",
    "\n",
    "# prep for grid search\n",
    "\n",
    "model = KerasClassifier(build_fn=create_model, verbose=0)\n",
    "\n",
    "# define Grid Search params\n",
    "\n",
    "param_grid = {'batch_size': [20, 60, 80, 100, 200],\n",
    "             'epochs': [20]}\n",
    "\n",
    "grid = GridSearchCV(estimator=model, \n",
    "                    param_grid=param_grid,\n",
    "                   n_jobs=1)\n",
    "grid_result = grid.fit(X_train, y_train)"
   ]
  },
  {
   "cell_type": "code",
   "execution_count": 43,
   "metadata": {},
   "outputs": [
    {
     "name": "stdout",
     "output_type": "stream",
     "text": [
      "Best: 0.5123697916666666 using {'batch_size': 20, 'epochs': 20}\n",
      "Means: 0.5123697916666666, Stdev: 0.011313897914702322 with: {'batch_size': 20, 'epochs': 20}\n",
      "Means: 0.5091145833333334, Stdev: 0.014966880120537302 with: {'batch_size': 60, 'epochs': 20}\n",
      "Means: 0.5061848958333334, Stdev: 0.007536352150254054 with: {'batch_size': 80, 'epochs': 20}\n",
      "Means: 0.5003255208333334, Stdev: 0.009612515013172788 with: {'batch_size': 100, 'epochs': 20}\n",
      "Means: 0.5061848958333334, Stdev: 0.002301779886674959 with: {'batch_size': 200, 'epochs': 20}\n"
     ]
    }
   ],
   "source": [
    "# report results\n",
    "\n",
    "print(f\"Best: {grid_result.best_score_} using {grid_result.best_params_}\")\n",
    "\n",
    "means = grid_result.cv_results_['mean_test_score']\n",
    "\n",
    "stds = grid_result.cv_results_['std_test_score']\n",
    "\n",
    "params = grid_result.cv_results_['params']\n",
    "\n",
    "for mean, stdev, param in zip(means, stds, params):\n",
    "    print(f\"Means: {mean}, Stdev: {stdev} with: {param}\")"
   ]
  },
  {
   "cell_type": "code",
   "execution_count": 44,
   "metadata": {},
   "outputs": [],
   "source": [
    "# tune optimizer\n",
    "\n",
    "from tensorflow.keras import optimizers\n",
    "\n",
    "def create_model(learn_rate=0.001):\n",
    "    model = Sequential()\n",
    "    model.add(Dense(128, activation='relu', input_shape=(inputs,)))\n",
    "    model.add(Dense(128, activation='relu'))\n",
    "    model.add(Dense(1, kernel_initializer='uniform', activation='sigmoid'))\n",
    "    model.compile(optimizer=optimizers.Adam(lr=learn_rate),\n",
    "                  loss='mean_squared_error',\n",
    "                  metrics=['acc'])\n",
    "    return model\n",
    "\n",
    "# prepare for grid search\n",
    "\n",
    "model = KerasClassifier(build_fn=create_model, verbose=0)\n",
    "\n",
    "# optimize with optimizer\n",
    "\n",
    "param_grid = {'batch_size': [20], \n",
    "              'epochs': [20], \n",
    "              'learn_rate': [0.001, 0.01, 0.1, 0.2, 0.3, 0.5]}\n",
    "\n",
    "grid = GridSearchCV(estimator=model, \n",
    "                    param_grid=param_grid, \n",
    "                    n_jobs=1)\n",
    "\n",
    "grid_result = grid.fit(X_train, y_train)"
   ]
  },
  {
   "cell_type": "code",
   "execution_count": 45,
   "metadata": {},
   "outputs": [
    {
     "name": "stdout",
     "output_type": "stream",
     "text": [
      "Best: 0.5205078125 using {'batch_size': 20, 'epochs': 20, 'learn_rate': 0.01}\n",
      "Means: 0.5198567708333334, Stdev: 0.011285765509999816 with: {'batch_size': 20, 'epochs': 20, 'learn_rate': 0.001}\n",
      "Means: 0.5205078125, Stdev: 0.003653962291771427 with: {'batch_size': 20, 'epochs': 20, 'learn_rate': 0.01}\n",
      "Means: 0.5055338541666666, Stdev: 0.017329207883080944 with: {'batch_size': 20, 'epochs': 20, 'learn_rate': 0.1}\n",
      "Means: 0.5087890625, Stdev: 0.01592725237333993 with: {'batch_size': 20, 'epochs': 20, 'learn_rate': 0.2}\n",
      "Means: 0.5035807291666666, Stdev: 0.01783545251536813 with: {'batch_size': 20, 'epochs': 20, 'learn_rate': 0.3}\n",
      "Means: 0.48046875, Stdev: 0.0013810679320049757 with: {'batch_size': 20, 'epochs': 20, 'learn_rate': 0.5}\n"
     ]
    }
   ],
   "source": [
    "# report results\n",
    "\n",
    "print(f\"Best: {grid_result.best_score_} using {grid_result.best_params_}\")\n",
    "means = grid_result.cv_results_['mean_test_score']\n",
    "stds = grid_result.cv_results_['std_test_score']\n",
    "params = grid_result.cv_results_['params']\n",
    "for mean, stdev, param in zip(means, stds, params):\n",
    "    print(f\"Means: {mean}, Stdev: {stdev} with: {param}\")\n",
    "\n"
   ]
  },
  {
   "cell_type": "code",
   "execution_count": 46,
   "metadata": {},
   "outputs": [],
   "source": [
    "# tune epochs\n",
    "\n",
    "def create_model():\n",
    "    model = Sequential()\n",
    "    model.add(Dense(128, activation='relu', input_shape=(inputs,)))\n",
    "    model.add(Dense(128, activation='relu'))\n",
    "    model.add(Dense(1, kernel_initializer='uniform', activation='sigmoid'))\n",
    "    model.compile(optimizer=optimizers.Adam(lr=0.01),\n",
    "                  loss='mean_squared_error',\n",
    "                  metrics=['acc'])\n",
    "    return model\n",
    "\n",
    "# prepare for grid search\n",
    "\n",
    "model = KerasClassifier(build_fn=create_model, verbose=0)\n",
    "\n",
    "# define grid search params\n",
    "\n",
    "param_grid = {'batch_size': [20], \n",
    "              'epochs': [50, 100, 200, 500]}\n",
    "\n",
    "grid = GridSearchCV(estimator=model, \n",
    "                    param_grid=param_grid,\n",
    "                    n_jobs=1)\n",
    "\n",
    "grid_result = grid.fit(X_train, y_train)"
   ]
  },
  {
   "cell_type": "code",
   "execution_count": 47,
   "metadata": {},
   "outputs": [
    {
     "name": "stdout",
     "output_type": "stream",
     "text": [
      "Best: 0.5237630208333334 using {'batch_size': 20, 'epochs': 50}\n",
      "Means: 0.5237630208333334, Stdev: 0.003222491841344943 with: {'batch_size': 20, 'epochs': 50}\n",
      "Means: 0.5146484375, Stdev: 0.007606329066111929 with: {'batch_size': 20, 'epochs': 100}\n",
      "Means: 0.5182291666666666, Stdev: 0.0009207119546699837 with: {'batch_size': 20, 'epochs': 200}\n",
      "Means: 0.5166015625, Stdev: 0.0034756114101664425 with: {'batch_size': 20, 'epochs': 500}\n"
     ]
    }
   ],
   "source": [
    "# Report Results\n",
    "\n",
    "print(f\"Best: {grid_result.best_score_} using {grid_result.best_params_}\")\n",
    "means = grid_result.cv_results_['mean_test_score']\n",
    "stds = grid_result.cv_results_['std_test_score']\n",
    "params = grid_result.cv_results_['params']\n",
    "for mean, stdev, param in zip(means, stds, params):\n",
    "    print(f\"Means: {mean}, Stdev: {stdev} with: {param}\")"
   ]
  },
  {
   "cell_type": "code",
   "execution_count": 48,
   "metadata": {},
   "outputs": [
    {
     "data": {
      "text/plain": [
       "<keras.callbacks.callbacks.History at 0x7f58aafef210>"
      ]
     },
     "execution_count": 48,
     "metadata": {},
     "output_type": "execute_result"
    }
   ],
   "source": [
    "model.fit(X_train, y_train, \n",
    "          batch_size=20, \n",
    "          epochs=50)"
   ]
  },
  {
   "cell_type": "code",
   "execution_count": 49,
   "metadata": {},
   "outputs": [],
   "source": [
    "'''\n",
    "Predict the Movement of Stock:\n",
    "\n",
    "Now that the neural network has been compiled, use the predict() method for making the prediction. \n",
    "Pass X_test as its argument and store the result in a variable named ypred. \n",
    "Then convert ypred to store binary values by storing the condition ypred > 5. \n",
    "Now, the variable y_pred stores either True or False depending on whether the \n",
    "predicted value was greater or less than 0.5.\n",
    "'''\n",
    "\n",
    "y_pred = model.predict(X_test)\n",
    "y_pred = (y_pred > 0.5)"
   ]
  },
  {
   "cell_type": "code",
   "execution_count": 50,
   "metadata": {},
   "outputs": [],
   "source": [
    "'''\n",
    "Next, create a new column in the dataframe dataset with the column header ‘ypred’ \n",
    "and store NaN values in the column. \n",
    "Then store the values of ypred into this new column, starting from the rows of the test dataset. \n",
    "This is done by slicing the dataframe using the iloc method as shown in the code below. \n",
    "Then drop all the NaN values from the dataset and store them in a new dataframe named trade_dataset.\n",
    "'''\n",
    "\n",
    "dataset['y_pred'] = np.NaN\n",
    "dataset.iloc[(len(dataset) - len(y_pred)):,-1:] = y_pred\n",
    "trade_dataset = dataset.dropna()"
   ]
  },
  {
   "cell_type": "code",
   "execution_count": null,
   "metadata": {},
   "outputs": [],
   "source": [
    "# Computing Strategy Returns\n",
    "\n",
    "trade_dataset['Tomorrows Returns'] = 0.\n",
    "trade_dataset['Tomorrows Returns'] = np.log(trade_dataset['Close']/trade_dataset['Close'].shift(1))\n",
    "trade_dataset['Tomorrows Returns'] = trade_dataset['Tomorrows Returns'].shift(-1)"
   ]
  },
  {
   "cell_type": "code",
   "execution_count": null,
   "metadata": {},
   "outputs": [],
   "source": [
    "trade_dataset['Strategy Returns'] = 0.\n",
    "trade_dataset['Strategy Returns'] = np.where(trade_dataset['y_pred'] == True, trade_dataset['Tomorrows Returns'], - trade_dataset['Tomorrows Returns'])"
   ]
  },
  {
   "cell_type": "code",
   "execution_count": null,
   "metadata": {},
   "outputs": [],
   "source": [
    "trade_dataset['Cumulative Market Returns'] = np.cumsum(trade_dataset['Tomorrows Returns'])\n",
    "trade_dataset['Cumulative Strategy Returns'] = np.cumsum(trade_dataset['Strategy Returns'])"
   ]
  },
  {
   "cell_type": "code",
   "execution_count": 54,
   "metadata": {},
   "outputs": [
    {
     "data": {
      "image/png": "[encoded data removed]",
      "text/plain": [
       "<Figure size 720x360 with 1 Axes>"
      ]
     },
     "metadata": {
      "needs_background": "light"
     },
     "output_type": "display_data"
    }
   ],
   "source": [
    "# Graph the Results\n",
    "\n",
    "plt.figure(figsize=(10,5))\n",
    "plt.plot(trade_dataset['Cumulative Market Returns'], color='r', label='Market Returns')\n",
    "plt.plot(trade_dataset['Cumulative Strategy Returns'], color='g', label='Strategy Returns')\n",
    "plt.legend()\n",
    "plt.show()"
   ]
  },
  {
   "cell_type": "code",
   "execution_count": null,
   "metadata": {},
   "outputs": [],
   "source": [
    "# Consider: Gather more data points (+100,000) for a more accurate model"
   ]
  },
  {
   "cell_type": "code",
   "execution_count": null,
   "metadata": {},
   "outputs": [],
   "source": []
  }
 ],
 "metadata": {
  "kernelspec": {
   "display_name": "Python 3.7.4 64-bit",
   "language": "python",
   "name": "python37464bit297b18a1a3e542689b13a325bcf6fffe"
  },
  "language_info": {
   "codemirror_mode": {
    "name": "ipython",
    "version": 3
   },
   "file_extension": ".py",
   "mimetype": "text/x-python",
   "name": "python",
   "nbconvert_exporter": "python",
   "pygments_lexer": "ipython3",
   "version": "3.7.4"
  }
 },
 "nbformat": 4,
 "nbformat_minor": 4
}
