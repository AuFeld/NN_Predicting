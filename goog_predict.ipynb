{
 "cells": [
  {
   "cell_type": "code",
   "execution_count": null,
   "metadata": {},
   "outputs": [],
   "source": [
    "# TO DO: Auto load in multiple datasets"
   ]
  },
  {
   "cell_type": "code",
   "execution_count": 39,
   "metadata": {},
   "outputs": [],
   "source": [
    "# Library Imports\n",
    "\n",
    "import pandas as pd\n",
    "import numpy as np\n",
    "from sklearn.model_selection import train_test_split\n",
    "import random\n",
    "from sklearn.preprocessing import StandardScaler\n",
    "from keras.models import Sequential\n",
    "from keras.layers import Dense, Dropout, Activation\n",
    "from keras.models import load_model\n",
    "import matplotlib.pyplot as plt\n",
    "import warnings\n",
    "warnings.filterwarnings('ignore')"
   ]
  },
  {
   "cell_type": "code",
   "execution_count": 40,
   "metadata": {},
   "outputs": [],
   "source": [
    "# Import the dataset\n",
    "\n",
    "dataset = pd.read_csv('data/GOOG.csv')\n",
    "dataset = dataset[['Open', 'High', 'Low', 'Close']]\n",
    "\n",
    "# Feature Engineering \n",
    "\n",
    "dataset['H-L'] = dataset['High'] - dataset['Low']\n",
    "dataset['O-C'] = dataset['Close'] - dataset['Open']\n",
    "dataset['3day MA'] = dataset['Close'].shift(1).rolling(window = 3).mean()\n",
    "dataset['10day MA'] = dataset['Close'].shift(1).rolling(window = 10).mean()\n",
    "dataset['30day MA'] = dataset['Close'].shift(1).rolling(window = 30).mean()\n",
    "dataset['Std_dev']= dataset['Close'].rolling(5).std()\n"
   ]
  },
  {
   "cell_type": "code",
   "execution_count": 41,
   "metadata": {},
   "outputs": [],
   "source": [
    "'''\n",
    "Identify price rises. Using a binary variable, 1, to indicate when\n",
    "the closing price of the next day is greater than the closing price of prior day.\n",
    "'''\n",
    "\n",
    "dataset['Price_Rise'] = np.where(dataset['Close'].shift(-1) > dataset['Close'], 1, 0)"
   ]
  },
  {
   "cell_type": "code",
   "execution_count": 42,
   "metadata": {},
   "outputs": [
    {
     "data": {
      "text/html": [
       "<div>\n",
       "<style scoped>\n",
       "    .dataframe tbody tr th:only-of-type {\n",
       "        vertical-align: middle;\n",
       "    }\n",
       "\n",
       "    .dataframe tbody tr th {\n",
       "        vertical-align: top;\n",
       "    }\n",
       "\n",
       "    .dataframe thead th {\n",
       "        text-align: right;\n",
       "    }\n",
       "</style>\n",
       "<table border=\"1\" class=\"dataframe\">\n",
       "  <thead>\n",
       "    <tr style=\"text-align: right;\">\n",
       "      <th></th>\n",
       "      <th>Open</th>\n",
       "      <th>High</th>\n",
       "      <th>Low</th>\n",
       "      <th>Close</th>\n",
       "      <th>H-L</th>\n",
       "      <th>O-C</th>\n",
       "      <th>3day MA</th>\n",
       "      <th>10day MA</th>\n",
       "      <th>30day MA</th>\n",
       "      <th>Std_dev</th>\n",
       "      <th>Price_Rise</th>\n",
       "    </tr>\n",
       "  </thead>\n",
       "  <tbody>\n",
       "    <tr>\n",
       "      <th>30</th>\n",
       "      <td>96.438522</td>\n",
       "      <td>99.546875</td>\n",
       "      <td>96.179497</td>\n",
       "      <td>97.250481</td>\n",
       "      <td>3.367378</td>\n",
       "      <td>0.811959</td>\n",
       "      <td>94.374593</td>\n",
       "      <td>98.017605</td>\n",
       "      <td>96.714490</td>\n",
       "      <td>1.657058</td>\n",
       "      <td>1</td>\n",
       "    </tr>\n",
       "    <tr>\n",
       "      <th>31</th>\n",
       "      <td>96.986473</td>\n",
       "      <td>99.292824</td>\n",
       "      <td>96.787216</td>\n",
       "      <td>98.834541</td>\n",
       "      <td>2.505608</td>\n",
       "      <td>1.848068</td>\n",
       "      <td>95.578415</td>\n",
       "      <td>98.183483</td>\n",
       "      <td>96.590289</td>\n",
       "      <td>2.349867</td>\n",
       "      <td>0</td>\n",
       "    </tr>\n",
       "    <tr>\n",
       "      <th>32</th>\n",
       "      <td>98.545624</td>\n",
       "      <td>99.502045</td>\n",
       "      <td>98.037529</td>\n",
       "      <td>98.580498</td>\n",
       "      <td>1.464516</td>\n",
       "      <td>0.034874</td>\n",
       "      <td>97.406563</td>\n",
       "      <td>97.807393</td>\n",
       "      <td>96.655212</td>\n",
       "      <td>2.227804</td>\n",
       "      <td>1</td>\n",
       "    </tr>\n",
       "    <tr>\n",
       "      <th>33</th>\n",
       "      <td>98.884354</td>\n",
       "      <td>99.048744</td>\n",
       "      <td>97.962814</td>\n",
       "      <td>98.605400</td>\n",
       "      <td>1.085930</td>\n",
       "      <td>-0.278954</td>\n",
       "      <td>98.221840</td>\n",
       "      <td>97.161813</td>\n",
       "      <td>96.728106</td>\n",
       "      <td>1.158720</td>\n",
       "      <td>0</td>\n",
       "    </tr>\n",
       "    <tr>\n",
       "      <th>34</th>\n",
       "      <td>97.883110</td>\n",
       "      <td>99.078629</td>\n",
       "      <td>94.839516</td>\n",
       "      <td>95.327690</td>\n",
       "      <td>4.239113</td>\n",
       "      <td>-2.555420</td>\n",
       "      <td>98.673480</td>\n",
       "      <td>96.842509</td>\n",
       "      <td>96.884187</td>\n",
       "      <td>1.475651</td>\n",
       "      <td>1</td>\n",
       "    </tr>\n",
       "  </tbody>\n",
       "</table>\n",
       "</div>"
      ],
      "text/plain": [
       "         Open       High        Low      Close       H-L       O-C    3day MA  \\\n",
       "30  96.438522  99.546875  96.179497  97.250481  3.367378  0.811959  94.374593   \n",
       "31  96.986473  99.292824  96.787216  98.834541  2.505608  1.848068  95.578415   \n",
       "32  98.545624  99.502045  98.037529  98.580498  1.464516  0.034874  97.406563   \n",
       "33  98.884354  99.048744  97.962814  98.605400  1.085930 -0.278954  98.221840   \n",
       "34  97.883110  99.078629  94.839516  95.327690  4.239113 -2.555420  98.673480   \n",
       "\n",
       "     10day MA   30day MA   Std_dev  Price_Rise  \n",
       "30  98.017605  96.714490  1.657058           1  \n",
       "31  98.183483  96.590289  2.349867           0  \n",
       "32  97.807393  96.655212  2.227804           1  \n",
       "33  97.161813  96.728106  1.158720           0  \n",
       "34  96.842509  96.884187  1.475651           1  "
      ]
     },
     "execution_count": 42,
     "metadata": {},
     "output_type": "execute_result"
    }
   ],
   "source": [
    "# Drop NAN values\n",
    "\n",
    "dataset = dataset.dropna()\n",
    "\n",
    "dataset.head()"
   ]
  },
  {
   "cell_type": "code",
   "execution_count": 43,
   "metadata": {},
   "outputs": [],
   "source": [
    "# Seperate target variable and drop target variable from df\n",
    "\n",
    "df = dataset.drop('Price_Rise', axis=1)\n",
    "y = dataset['Price_Rise']"
   ]
  },
  {
   "cell_type": "code",
   "execution_count": 44,
   "metadata": {},
   "outputs": [],
   "source": [
    "# Split the Dataset\n",
    "\n",
    "X_train, X_test, y_train, y_test = train_test_split(df, y, test_size=0.20, \n",
    "                                                    random_state=42)"
   ]
  },
  {
   "cell_type": "code",
   "execution_count": 45,
   "metadata": {},
   "outputs": [
    {
     "data": {
      "text/plain": [
       "1    0.517904\n",
       "0    0.482096\n",
       "Name: Price_Rise, dtype: float64"
      ]
     },
     "execution_count": 45,
     "metadata": {},
     "output_type": "execute_result"
    }
   ],
   "source": [
    "'''\n",
    "Establish a Baseline & Domain Insight:\n",
    "\n",
    "Objective: to accomplish a better accuracy % then our baseline of 51.7 pct. \n",
    "Why such a low baseline? Casino's make their money with 51%/49% odds. Any rate\n",
    "better then a 51% accuracy rate should be considered as a success.\n",
    "'''\n",
    "\n",
    "y_train.value_counts(normalize=True)"
   ]
  },
  {
   "cell_type": "code",
   "execution_count": 46,
   "metadata": {},
   "outputs": [],
   "source": [
    "'''\n",
    "Feature Scaling and Standardizing:\n",
    "\n",
    "This ensures that there is no bias while training the model due to the \n",
    "different scales of all input features. If this is not done the neural \n",
    "network might get confused and give a higher weight to those features \n",
    "which have a higher average value than others.\n",
    "'''\n",
    "\n",
    "sc = StandardScaler()\n",
    "X_train = sc.fit_transform(X_train)\n",
    "X_test = sc.transform(X_test)"
   ]
  },
  {
   "cell_type": "code",
   "execution_count": 47,
   "metadata": {},
   "outputs": [
    {
     "data": {
      "text/plain": [
       "'\\nNN Notes:\\n\\nUnits: This defines the number of nodes or neurons in that particular layer. \\nWe have set this value to 128, meaning there will be 128 neurons in our hidden layer.\\n\\nKernel_initializer: This defines the starting values for the weights of the \\ndifferent neurons in the hidden layer. We have defined this to be ‘uniform’, \\nwhich means that the weights will be initialized with values from a uniform distribution.\\n\\nActivation: This is the activation function for the neurons in the particular hidden layer. \\nHere we define the function as the rectified Linear Unit function or ‘relu’.\\n\\nInputs: This defines the number of inputs to the hidden layer, we have defined this \\nvalue to be equal to the number of columns of our input feature dataframe. \\nThis argument will not be required in the subsequent layers, as the model will know \\nhow many outputs the previous layer produced.\\n'"
      ]
     },
     "execution_count": 47,
     "metadata": {},
     "output_type": "execute_result"
    }
   ],
   "source": [
    "'''\n",
    "NN Notes:\n",
    "\n",
    "Units: This defines the number of nodes or neurons in that particular layer. \n",
    "We have set this value to 128, meaning there will be 128 neurons in our hidden layer.\n",
    "\n",
    "Kernel_initializer: This defines the starting values for the weights of the \n",
    "different neurons in the hidden layer. We have defined this to be ‘uniform’, \n",
    "which means that the weights will be initialized with values from a uniform distribution.\n",
    "\n",
    "Activation: This is the activation function for the neurons in the particular hidden layer. \n",
    "Here we define the function as the rectified Linear Unit function or ‘relu’.\n",
    "\n",
    "Inputs: This defines the number of inputs to the hidden layer, we have defined this \n",
    "value to be equal to the number of columns of our input feature dataframe. \n",
    "This argument will not be required in the subsequent layers, as the model will know \n",
    "how many outputs the previous layer produced.\n",
    "'''"
   ]
  },
  {
   "cell_type": "code",
   "execution_count": 48,
   "metadata": {},
   "outputs": [],
   "source": [
    "'''\n",
    "Variables for NN - Adjust as neccessary. \n",
    "'''\n",
    "epochs = 100\n",
    "batch_size = 10\n",
    "inputs = X_train.shape[1]"
   ]
  },
  {
   "cell_type": "code",
   "execution_count": 49,
   "metadata": {},
   "outputs": [],
   "source": [
    "'''\n",
    "Building the NN\n",
    "'''\n",
    "\n",
    "model = Sequential()\n",
    "\n",
    "# Two Hidden Layers\n",
    "\n",
    "model.add(Dense(128, activation='relu', input_shape=(inputs,)))\n",
    "model.add(Dense(128, activation='relu'))\n",
    "\n",
    "# Output Layer\n",
    "\n",
    "model.add(Dense(1, kernel_initializer='uniform', activation='sigmoid'))\n",
    "\n",
    "# Compile the Model\n",
    "\n",
    "model.compile(optimizer='adam',\n",
    "              loss='mean_squared_error',\n",
    "              metrics=['acc'])"
   ]
  },
  {
   "cell_type": "code",
   "execution_count": 51,
   "metadata": {},
   "outputs": [],
   "source": [
    "# save model\n",
    "\n",
    "def create_model():\n",
    "    model = Sequential()\n",
    "    model.add(Dense(128, activation='relu', input_shape=(inputs,)))\n",
    "    model.add(Dense(128, activation='relu'))\n",
    "    model.add(Dense(1, kernel_initializer='uniform', activation='sigmoid'))\n",
    "    model.compile(optimizer='adam',\n",
    "                  loss='mean_squared_error',\n",
    "                  metrics=['acc'])\n",
    "    return model\n",
    "\n",
    "\n",
    "model.save('./models/goog_model.h5', include_optimizer=True)"
   ]
  },
  {
   "cell_type": "code",
   "execution_count": 52,
   "metadata": {},
   "outputs": [
    {
     "name": "stdout",
     "output_type": "stream",
     "text": [
      "Epoch 1/100\n",
      "3072/3072 [==============================] - 1s 176us/step - loss: 0.2509 - acc: 0.5003\n",
      "Epoch 2/100\n",
      "3072/3072 [==============================] - 0s 160us/step - loss: 0.2499 - acc: 0.5189\n",
      "Epoch 3/100\n",
      "3072/3072 [==============================] - 0s 147us/step - loss: 0.2497 - acc: 0.5140\n",
      "Epoch 4/100\n",
      "3072/3072 [==============================] - 0s 141us/step - loss: 0.2495 - acc: 0.5179\n",
      "Epoch 5/100\n",
      "3072/3072 [==============================] - 0s 161us/step - loss: 0.2493 - acc: 0.5257\n",
      "Epoch 6/100\n",
      "3072/3072 [==============================] - 0s 135us/step - loss: 0.2494 - acc: 0.5212\n",
      "Epoch 7/100\n",
      "3072/3072 [==============================] - 0s 134us/step - loss: 0.2490 - acc: 0.5273\n",
      "Epoch 8/100\n",
      "3072/3072 [==============================] - 0s 134us/step - loss: 0.2490 - acc: 0.5189\n",
      "Epoch 9/100\n",
      "3072/3072 [==============================] - 0s 134us/step - loss: 0.2489 - acc: 0.5241\n",
      "Epoch 10/100\n",
      "3072/3072 [==============================] - 0s 138us/step - loss: 0.2489 - acc: 0.5316\n",
      "Epoch 11/100\n",
      "3072/3072 [==============================] - 0s 138us/step - loss: 0.2488 - acc: 0.5273\n",
      "Epoch 12/100\n",
      "3072/3072 [==============================] - 0s 140us/step - loss: 0.2487 - acc: 0.5335\n",
      "Epoch 13/100\n",
      "3072/3072 [==============================] - 0s 138us/step - loss: 0.2481 - acc: 0.5352\n",
      "Epoch 14/100\n",
      "3072/3072 [==============================] - 0s 143us/step - loss: 0.2482 - acc: 0.5361\n",
      "Epoch 15/100\n",
      "3072/3072 [==============================] - 0s 137us/step - loss: 0.2480 - acc: 0.5400\n",
      "Epoch 16/100\n",
      "3072/3072 [==============================] - 0s 143us/step - loss: 0.2476 - acc: 0.5394\n",
      "Epoch 17/100\n",
      "3072/3072 [==============================] - 0s 132us/step - loss: 0.2476 - acc: 0.5404\n",
      "Epoch 18/100\n",
      "3072/3072 [==============================] - 0s 144us/step - loss: 0.2473 - acc: 0.5400\n",
      "Epoch 19/100\n",
      "3072/3072 [==============================] - 0s 137us/step - loss: 0.2470 - acc: 0.5423\n",
      "Epoch 20/100\n",
      "3072/3072 [==============================] - 0s 144us/step - loss: 0.2472 - acc: 0.5404\n",
      "Epoch 21/100\n",
      "3072/3072 [==============================] - 1s 209us/step - loss: 0.2468 - acc: 0.5446\n",
      "Epoch 22/100\n",
      "3072/3072 [==============================] - 0s 162us/step - loss: 0.2465 - acc: 0.5433\n",
      "Epoch 23/100\n",
      "3072/3072 [==============================] - 1s 229us/step - loss: 0.2467 - acc: 0.5433\n",
      "Epoch 24/100\n",
      "3072/3072 [==============================] - 0s 147us/step - loss: 0.2464 - acc: 0.5462\n",
      "Epoch 25/100\n",
      "3072/3072 [==============================] - 0s 146us/step - loss: 0.2458 - acc: 0.5537\n",
      "Epoch 26/100\n",
      "3072/3072 [==============================] - 0s 144us/step - loss: 0.2455 - acc: 0.5521\n",
      "Epoch 27/100\n",
      "3072/3072 [==============================] - 1s 216us/step - loss: 0.2452 - acc: 0.5456\n",
      "Epoch 28/100\n",
      "3072/3072 [==============================] - 0s 145us/step - loss: 0.2446 - acc: 0.5540\n",
      "Epoch 29/100\n",
      "3072/3072 [==============================] - 0s 141us/step - loss: 0.2446 - acc: 0.5518\n",
      "Epoch 30/100\n",
      "3072/3072 [==============================] - 0s 132us/step - loss: 0.2444 - acc: 0.5524\n",
      "Epoch 31/100\n",
      "3072/3072 [==============================] - 0s 139us/step - loss: 0.2439 - acc: 0.5583\n",
      "Epoch 32/100\n",
      "3072/3072 [==============================] - 0s 143us/step - loss: 0.2439 - acc: 0.5518\n",
      "Epoch 33/100\n",
      "3072/3072 [==============================] - 0s 153us/step - loss: 0.2436 - acc: 0.5550\n",
      "Epoch 34/100\n",
      "3072/3072 [==============================] - 0s 143us/step - loss: 0.2437 - acc: 0.5547\n",
      "Epoch 35/100\n",
      "3072/3072 [==============================] - 0s 145us/step - loss: 0.2433 - acc: 0.5648\n",
      "Epoch 36/100\n",
      "3072/3072 [==============================] - 0s 144us/step - loss: 0.2426 - acc: 0.5592\n",
      "Epoch 37/100\n",
      "3072/3072 [==============================] - 0s 143us/step - loss: 0.2425 - acc: 0.5645\n",
      "Epoch 38/100\n",
      "3072/3072 [==============================] - 0s 145us/step - loss: 0.2425 - acc: 0.5592\n",
      "Epoch 39/100\n",
      "3072/3072 [==============================] - 0s 150us/step - loss: 0.2415 - acc: 0.5661\n",
      "Epoch 40/100\n",
      "3072/3072 [==============================] - 0s 145us/step - loss: 0.2414 - acc: 0.5664\n",
      "Epoch 41/100\n",
      "3072/3072 [==============================] - 0s 146us/step - loss: 0.2412 - acc: 0.5628\n",
      "Epoch 42/100\n",
      "3072/3072 [==============================] - 0s 153us/step - loss: 0.2408 - acc: 0.5697\n",
      "Epoch 43/100\n",
      "3072/3072 [==============================] - 0s 156us/step - loss: 0.2407 - acc: 0.5739\n",
      "Epoch 44/100\n",
      "3072/3072 [==============================] - 0s 153us/step - loss: 0.2404 - acc: 0.5638\n",
      "Epoch 45/100\n",
      "3072/3072 [==============================] - 0s 153us/step - loss: 0.2401 - acc: 0.5667\n",
      "Epoch 46/100\n",
      "3072/3072 [==============================] - 0s 155us/step - loss: 0.2402 - acc: 0.5638\n",
      "Epoch 47/100\n",
      "3072/3072 [==============================] - 0s 155us/step - loss: 0.2399 - acc: 0.5645\n",
      "Epoch 48/100\n",
      "3072/3072 [==============================] - 0s 158us/step - loss: 0.2399 - acc: 0.5684\n",
      "Epoch 49/100\n",
      "3072/3072 [==============================] - 0s 155us/step - loss: 0.2389 - acc: 0.5719\n",
      "Epoch 50/100\n",
      "3072/3072 [==============================] - 0s 160us/step - loss: 0.2391 - acc: 0.5674\n",
      "Epoch 51/100\n",
      "3072/3072 [==============================] - 0s 156us/step - loss: 0.2382 - acc: 0.5706\n",
      "Epoch 52/100\n",
      "3072/3072 [==============================] - 1s 163us/step - loss: 0.2381 - acc: 0.5736\n",
      "Epoch 53/100\n",
      "3072/3072 [==============================] - 0s 152us/step - loss: 0.2381 - acc: 0.5674\n",
      "Epoch 54/100\n",
      "3072/3072 [==============================] - 0s 157us/step - loss: 0.2382 - acc: 0.5736\n",
      "Epoch 55/100\n",
      "3072/3072 [==============================] - 0s 158us/step - loss: 0.2377 - acc: 0.5664\n",
      "Epoch 56/100\n",
      "3072/3072 [==============================] - 0s 162us/step - loss: 0.2367 - acc: 0.5785\n",
      "Epoch 57/100\n",
      "3072/3072 [==============================] - 0s 160us/step - loss: 0.2373 - acc: 0.5729\n",
      "Epoch 58/100\n",
      "3072/3072 [==============================] - 0s 152us/step - loss: 0.2372 - acc: 0.5710\n",
      "Epoch 59/100\n",
      "3072/3072 [==============================] - 0s 158us/step - loss: 0.2361 - acc: 0.5723\n",
      "Epoch 60/100\n",
      "3072/3072 [==============================] - 0s 160us/step - loss: 0.2369 - acc: 0.5697\n",
      "Epoch 61/100\n",
      "3072/3072 [==============================] - 0s 161us/step - loss: 0.2364 - acc: 0.5794\n",
      "Epoch 62/100\n",
      "3072/3072 [==============================] - 0s 153us/step - loss: 0.2356 - acc: 0.5837\n",
      "Epoch 63/100\n",
      "3072/3072 [==============================] - 1s 225us/step - loss: 0.2358 - acc: 0.5778\n",
      "Epoch 64/100\n",
      "3072/3072 [==============================] - 1s 235us/step - loss: 0.2353 - acc: 0.5840\n",
      "Epoch 65/100\n",
      "3072/3072 [==============================] - 0s 152us/step - loss: 0.2350 - acc: 0.5801\n",
      "Epoch 66/100\n",
      "3072/3072 [==============================] - 0s 154us/step - loss: 0.2345 - acc: 0.5869\n",
      "Epoch 67/100\n",
      "3072/3072 [==============================] - 0s 159us/step - loss: 0.2341 - acc: 0.5719\n",
      "Epoch 68/100\n",
      "3072/3072 [==============================] - 0s 153us/step - loss: 0.2340 - acc: 0.5804\n",
      "Epoch 69/100\n",
      "3072/3072 [==============================] - 0s 154us/step - loss: 0.2343 - acc: 0.5807\n",
      "Epoch 70/100\n",
      "3072/3072 [==============================] - 0s 156us/step - loss: 0.2337 - acc: 0.5879\n",
      "Epoch 71/100\n",
      "3072/3072 [==============================] - 0s 157us/step - loss: 0.2337 - acc: 0.5843\n",
      "Epoch 72/100\n",
      "3072/3072 [==============================] - 0s 153us/step - loss: 0.2333 - acc: 0.5817\n",
      "Epoch 73/100\n",
      "3072/3072 [==============================] - 0s 159us/step - loss: 0.2326 - acc: 0.5931\n",
      "Epoch 74/100\n",
      "3072/3072 [==============================] - 0s 157us/step - loss: 0.2333 - acc: 0.5846\n",
      "Epoch 75/100\n",
      "3072/3072 [==============================] - 0s 153us/step - loss: 0.2319 - acc: 0.5924\n",
      "Epoch 76/100\n",
      "3072/3072 [==============================] - 0s 162us/step - loss: 0.2316 - acc: 0.5879\n",
      "Epoch 77/100\n",
      "3072/3072 [==============================] - 0s 150us/step - loss: 0.2311 - acc: 0.5967\n",
      "Epoch 78/100\n",
      "3072/3072 [==============================] - 0s 159us/step - loss: 0.2313 - acc: 0.5951\n",
      "Epoch 79/100\n",
      "3072/3072 [==============================] - 0s 153us/step - loss: 0.2317 - acc: 0.5915\n",
      "Epoch 80/100\n",
      "3072/3072 [==============================] - 1s 168us/step - loss: 0.2308 - acc: 0.5934\n",
      "Epoch 81/100\n",
      "3072/3072 [==============================] - 1s 220us/step - loss: 0.2307 - acc: 0.5934\n",
      "Epoch 82/100\n",
      "3072/3072 [==============================] - 0s 162us/step - loss: 0.2300 - acc: 0.5915\n",
      "Epoch 83/100\n",
      "3072/3072 [==============================] - 0s 162us/step - loss: 0.2303 - acc: 0.5947\n",
      "Epoch 84/100\n",
      "3072/3072 [==============================] - 0s 154us/step - loss: 0.2295 - acc: 0.5915\n",
      "Epoch 85/100\n",
      "3072/3072 [==============================] - 0s 160us/step - loss: 0.2289 - acc: 0.5967\n",
      "Epoch 86/100\n",
      "3072/3072 [==============================] - 0s 153us/step - loss: 0.2288 - acc: 0.5996\n",
      "Epoch 87/100\n",
      "3072/3072 [==============================] - 0s 161us/step - loss: 0.2285 - acc: 0.5954\n",
      "Epoch 88/100\n",
      "3072/3072 [==============================] - 1s 164us/step - loss: 0.2281 - acc: 0.5970\n",
      "Epoch 89/100\n",
      "3072/3072 [==============================] - 0s 158us/step - loss: 0.2273 - acc: 0.5947\n",
      "Epoch 90/100\n",
      "3072/3072 [==============================] - 1s 182us/step - loss: 0.2272 - acc: 0.5993\n",
      "Epoch 91/100\n",
      "3072/3072 [==============================] - 1s 164us/step - loss: 0.2281 - acc: 0.5996\n",
      "Epoch 92/100\n",
      "3072/3072 [==============================] - 0s 161us/step - loss: 0.2280 - acc: 0.5957\n",
      "Epoch 93/100\n",
      "3072/3072 [==============================] - 1s 164us/step - loss: 0.2258 - acc: 0.6097\n",
      "Epoch 94/100\n",
      "3072/3072 [==============================] - 0s 157us/step - loss: 0.2262 - acc: 0.6100\n",
      "Epoch 95/100\n",
      "3072/3072 [==============================] - 0s 159us/step - loss: 0.2263 - acc: 0.6038\n",
      "Epoch 96/100\n",
      "3072/3072 [==============================] - 0s 159us/step - loss: 0.2250 - acc: 0.6061\n",
      "Epoch 97/100\n",
      "3072/3072 [==============================] - 0s 158us/step - loss: 0.2257 - acc: 0.6081\n",
      "Epoch 98/100\n",
      "3072/3072 [==============================] - 1s 218us/step - loss: 0.2243 - acc: 0.6038\n",
      "Epoch 99/100\n",
      "3072/3072 [==============================] - 1s 276us/step - loss: 0.2248 - acc: 0.6051\n",
      "Epoch 100/100\n",
      "3072/3072 [==============================] - 0s 161us/step - loss: 0.2247 - acc: 0.6064\n"
     ]
    },
    {
     "data": {
      "text/plain": [
       "<keras.callbacks.callbacks.History at 0x7faa8ea639d0>"
      ]
     },
     "execution_count": 52,
     "metadata": {},
     "output_type": "execute_result"
    }
   ],
   "source": [
    "# Fit and Train Model\n",
    "\n",
    "model.fit(X_train, y_train, \n",
    "          batch_size = batch_size, \n",
    "          epochs = epochs)"
   ]
  },
  {
   "cell_type": "code",
   "execution_count": 53,
   "metadata": {},
   "outputs": [],
   "source": [
    "# hyperparameter tuning\n",
    "\n",
    "from sklearn.model_selection import GridSearchCV\n",
    "from tensorflow.keras.wrappers.scikit_learn import KerasClassifier\n",
    "from tensorflow.keras import optimizers\n",
    "\n",
    "def create_model():\n",
    "    model = Sequential()\n",
    "    model.add(Dense(128, activation='relu', input_shape=(inputs,)))\n",
    "    model.add(Dense(128, activation='relu'))\n",
    "    model.add(Dense(1, kernel_initializer='uniform', activation='sigmoid'))\n",
    "    model.compile(optimizer='adam',\n",
    "                  loss='mean_squared_error',\n",
    "                  metrics=['acc'])\n",
    "    return model\n",
    "\n",
    "# prep for grid search\n",
    "\n",
    "model = KerasClassifier(build_fn=create_model, verbose=0)\n",
    "\n",
    "# define Grid Search params\n",
    "\n",
    "param_grid = {'batch_size': [20, 60, 80, 100, 200],\n",
    "             'epochs': [20]}\n",
    "\n",
    "grid = GridSearchCV(estimator=model, \n",
    "                    param_grid=param_grid,\n",
    "                   n_jobs=1)\n",
    "grid_result = grid.fit(X_train, y_train)"
   ]
  },
  {
   "cell_type": "code",
   "execution_count": 54,
   "metadata": {},
   "outputs": [
    {
     "name": "stdout",
     "output_type": "stream",
     "text": [
      "Best: 0.5084635416666666 using {'batch_size': 80, 'epochs': 20}\n",
      "Means: 0.5052083333333334, Stdev: 0.00852591201413333 with: {'batch_size': 20, 'epochs': 20}\n",
      "Means: 0.5078125, Stdev: 0.01759620019757758 with: {'batch_size': 60, 'epochs': 20}\n",
      "Means: 0.5084635416666666, Stdev: 0.0018414239093399675 with: {'batch_size': 80, 'epochs': 20}\n",
      "Means: 0.5065104166666666, Stdev: 0.013397861736495232 with: {'batch_size': 100, 'epochs': 20}\n",
      "Means: 0.5016276041666666, Stdev: 0.016750885846703915 with: {'batch_size': 200, 'epochs': 20}\n"
     ]
    }
   ],
   "source": [
    "# report results\n",
    "\n",
    "print(f\"Best: {grid_result.best_score_} using {grid_result.best_params_}\")\n",
    "\n",
    "means = grid_result.cv_results_['mean_test_score']\n",
    "\n",
    "stds = grid_result.cv_results_['std_test_score']\n",
    "\n",
    "params = grid_result.cv_results_['params']\n",
    "\n",
    "for mean, stdev, param in zip(means, stds, params):\n",
    "    print(f\"Means: {mean}, Stdev: {stdev} with: {param}\")"
   ]
  },
  {
   "cell_type": "code",
   "execution_count": 55,
   "metadata": {},
   "outputs": [],
   "source": [
    "# tune optimizer\n",
    "\n",
    "from tensorflow.keras import optimizers\n",
    "\n",
    "def create_model(learn_rate=0.001):\n",
    "    model = Sequential()\n",
    "    model.add(Dense(128, activation='relu', input_shape=(inputs,)))\n",
    "    model.add(Dense(128, activation='relu'))\n",
    "    model.add(Dense(1, kernel_initializer='uniform', activation='sigmoid'))\n",
    "    model.compile(optimizer=optimizers.Adam(lr=learn_rate),\n",
    "                  loss='mean_squared_error',\n",
    "                  metrics=['acc'])\n",
    "    return model\n",
    "\n",
    "# prepare for grid search\n",
    "\n",
    "model = KerasClassifier(build_fn=create_model, verbose=0)\n",
    "\n",
    "# optimize with optimizer\n",
    "\n",
    "param_grid = {'batch_size': [20], \n",
    "              'epochs': [20], \n",
    "              'learn_rate': [0.001, 0.01, 0.1, 0.2, 0.3, 0.5]}\n",
    "\n",
    "grid = GridSearchCV(estimator=model, \n",
    "                    param_grid=param_grid, \n",
    "                    n_jobs=1)\n",
    "\n",
    "grid_result = grid.fit(X_train, y_train)"
   ]
  },
  {
   "cell_type": "code",
   "execution_count": 56,
   "metadata": {},
   "outputs": [
    {
     "name": "stdout",
     "output_type": "stream",
     "text": [
      "Best: 0.5182291666666666 using {'batch_size': 20, 'epochs': 20, 'learn_rate': 0.01}\n",
      "Means: 0.5146484375, Stdev: 0.009700302360515195 with: {'batch_size': 20, 'epochs': 20, 'learn_rate': 0.001}\n",
      "Means: 0.5182291666666666, Stdev: 0.0033196741624953027 with: {'batch_size': 20, 'epochs': 20, 'learn_rate': 0.01}\n",
      "Means: 0.4964192708333333, Stdev: 0.017835452515368132 with: {'batch_size': 20, 'epochs': 20, 'learn_rate': 0.1}\n",
      "Means: 0.5087890625, Stdev: 0.01592725237333993 with: {'batch_size': 20, 'epochs': 20, 'learn_rate': 0.2}\n",
      "Means: 0.5179036458333334, Stdev: 0.003222491841344943 with: {'batch_size': 20, 'epochs': 20, 'learn_rate': 0.3}\n",
      "Means: 0.5179036458333334, Stdev: 0.003222491841344943 with: {'batch_size': 20, 'epochs': 20, 'learn_rate': 0.5}\n"
     ]
    }
   ],
   "source": [
    "# report results\n",
    "\n",
    "print(f\"Best: {grid_result.best_score_} using {grid_result.best_params_}\")\n",
    "means = grid_result.cv_results_['mean_test_score']\n",
    "stds = grid_result.cv_results_['std_test_score']\n",
    "params = grid_result.cv_results_['params']\n",
    "for mean, stdev, param in zip(means, stds, params):\n",
    "    print(f\"Means: {mean}, Stdev: {stdev} with: {param}\")\n",
    "\n"
   ]
  },
  {
   "cell_type": "code",
   "execution_count": 57,
   "metadata": {},
   "outputs": [],
   "source": [
    "# tune epochs\n",
    "\n",
    "def create_model():\n",
    "    model = Sequential()\n",
    "    model.add(Dense(128, activation='relu', input_shape=(inputs,)))\n",
    "    model.add(Dense(128, activation='relu'))\n",
    "    model.add(Dense(1, kernel_initializer='uniform', activation='sigmoid'))\n",
    "    model.compile(optimizer=optimizers.Adam(lr=0.01),\n",
    "                  loss='mean_squared_error',\n",
    "                  metrics=['acc'])\n",
    "    return model\n",
    "\n",
    "# prepare for grid search\n",
    "\n",
    "model = KerasClassifier(build_fn=create_model, verbose=0)\n",
    "\n",
    "# define grid search params\n",
    "\n",
    "param_grid = {'batch_size': [20], \n",
    "              'epochs': [50, 100, 200, 500]}\n",
    "\n",
    "grid = GridSearchCV(estimator=model, \n",
    "                    param_grid=param_grid,\n",
    "                    n_jobs=1)\n",
    "\n",
    "grid_result = grid.fit(X_train, y_train)"
   ]
  },
  {
   "cell_type": "code",
   "execution_count": 58,
   "metadata": {},
   "outputs": [
    {
     "name": "stdout",
     "output_type": "stream",
     "text": [
      "Best: 0.5198567708333334 using {'batch_size': 20, 'epochs': 500}\n",
      "Means: 0.5104166666666666, Stdev: 0.0020066451832581305 with: {'batch_size': 20, 'epochs': 50}\n",
      "Means: 0.5182291666666666, Stdev: 0.002800236089532105 with: {'batch_size': 20, 'epochs': 100}\n",
      "Means: 0.5133463541666666, Stdev: 0.008783032267729194 with: {'batch_size': 20, 'epochs': 200}\n",
      "Means: 0.5198567708333334, Stdev: 0.007866566389058968 with: {'batch_size': 20, 'epochs': 500}\n"
     ]
    }
   ],
   "source": [
    "# Report Results\n",
    "\n",
    "print(f\"Best: {grid_result.best_score_} using {grid_result.best_params_}\")\n",
    "means = grid_result.cv_results_['mean_test_score']\n",
    "stds = grid_result.cv_results_['std_test_score']\n",
    "params = grid_result.cv_results_['params']\n",
    "for mean, stdev, param in zip(means, stds, params):\n",
    "    print(f\"Means: {mean}, Stdev: {stdev} with: {param}\")"
   ]
  },
  {
   "cell_type": "code",
   "execution_count": 59,
   "metadata": {},
   "outputs": [
    {
     "data": {
      "text/plain": [
       "<keras.callbacks.callbacks.History at 0x7faa8e953b10>"
      ]
     },
     "execution_count": 59,
     "metadata": {},
     "output_type": "execute_result"
    }
   ],
   "source": [
    "model.fit(X_train, y_train, \n",
    "          batch_size=20, \n",
    "          epochs=500)"
   ]
  },
  {
   "cell_type": "code",
   "execution_count": 60,
   "metadata": {},
   "outputs": [],
   "source": [
    "'''\n",
    "Predict the Movement of Stock:\n",
    "\n",
    "Now that the neural network has been compiled, use the predict() method for making the prediction. \n",
    "Pass X_test as its argument and store the result in a variable named ypred. \n",
    "Then convert ypred to store binary values by storing the condition ypred > 5. \n",
    "Now, the variable y_pred stores either True or False depending on whether the \n",
    "predicted value was greater or less than 0.5.\n",
    "'''\n",
    "\n",
    "y_pred = model.predict(X_test)\n",
    "y_pred = (y_pred > 0.5)"
   ]
  },
  {
   "cell_type": "code",
   "execution_count": 61,
   "metadata": {},
   "outputs": [],
   "source": [
    "'''\n",
    "Next, create a new column in the dataframe dataset with the column header ‘ypred’ \n",
    "and store NaN values in the column. \n",
    "Then store the values of ypred into this new column, starting from the rows of the test dataset. \n",
    "This is done by slicing the dataframe using the iloc method as shown in the code below. \n",
    "Then drop all the NaN values from the dataset and store them in a new dataframe named trade_dataset.\n",
    "'''\n",
    "\n",
    "dataset['y_pred'] = np.NaN\n",
    "dataset.iloc[(len(dataset) - len(y_pred)):,-1:] = y_pred\n",
    "trade_dataset = dataset.dropna()"
   ]
  },
  {
   "cell_type": "code",
   "execution_count": 62,
   "metadata": {},
   "outputs": [],
   "source": [
    "# Computing Strategy Returns\n",
    "\n",
    "trade_dataset['Tomorrows Returns'] = 0.\n",
    "trade_dataset['Tomorrows Returns'] = np.log(trade_dataset['Close']/trade_dataset['Close'].shift(1))\n",
    "trade_dataset['Tomorrows Returns'] = trade_dataset['Tomorrows Returns'].shift(-1)"
   ]
  },
  {
   "cell_type": "code",
   "execution_count": 63,
   "metadata": {},
   "outputs": [],
   "source": [
    "trade_dataset['Strategy Returns'] = 0.\n",
    "trade_dataset['Strategy Returns'] = np.where(trade_dataset['y_pred'] == True, trade_dataset['Tomorrows Returns'], - trade_dataset['Tomorrows Returns'])"
   ]
  },
  {
   "cell_type": "code",
   "execution_count": 64,
   "metadata": {},
   "outputs": [],
   "source": [
    "trade_dataset['Cumulative Market Returns'] = np.cumsum(trade_dataset['Tomorrows Returns'])\n",
    "trade_dataset['Cumulative Strategy Returns'] = np.cumsum(trade_dataset['Strategy Returns'])"
   ]
  },
  {
   "cell_type": "code",
   "execution_count": 65,
   "metadata": {},
   "outputs": [
    {
     "data": {
      "image/png": "[encoded data removed]",
      "text/plain": [
       "<Figure size 720x360 with 1 Axes>"
      ]
     },
     "metadata": {
      "needs_background": "light"
     },
     "output_type": "display_data"
    }
   ],
   "source": [
    "# Graph the Results\n",
    "\n",
    "plt.figure(figsize=(10,5))\n",
    "plt.plot(trade_dataset['Cumulative Market Returns'], color='r', label='Market Returns')\n",
    "plt.plot(trade_dataset['Cumulative Strategy Returns'], color='g', label='Strategy Returns')\n",
    "plt.legend()\n",
    "plt.show()"
   ]
  },
  {
   "cell_type": "code",
   "execution_count": null,
   "metadata": {},
   "outputs": [],
   "source": [
    "# Consider: Gather more data points (+100,000) for a more accurate model"
   ]
  },
  {
   "cell_type": "code",
   "execution_count": null,
   "metadata": {},
   "outputs": [],
   "source": []
  }
 ],
 "metadata": {
  "kernelspec": {
   "display_name": "Python 3.7.4 64-bit",
   "language": "python",
   "name": "python37464bit297b18a1a3e542689b13a325bcf6fffe"
  },
  "language_info": {
   "codemirror_mode": {
    "name": "ipython",
    "version": 3
   },
   "file_extension": ".py",
   "mimetype": "text/x-python",
   "name": "python",
   "nbconvert_exporter": "python",
   "pygments_lexer": "ipython3",
   "version": "3.7.4"
  }
 },
 "nbformat": 4,
 "nbformat_minor": 4
}
